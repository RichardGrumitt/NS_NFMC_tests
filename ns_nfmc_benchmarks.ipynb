{
 "cells": [
  {
   "cell_type": "code",
   "execution_count": 1,
   "id": "alert-darwin",
   "metadata": {},
   "outputs": [
    {
     "name": "stderr",
     "output_type": "stream",
     "text": [
      "WARNING (theano.link.c.cmodule): install mkl with `conda install mkl-service`: No module named 'mkl'\n"
     ]
    },
    {
     "name": "stdout",
     "output_type": "stream",
     "text": [
      "Running on PyMC3 v3.11.0\n"
     ]
    }
   ],
   "source": [
    "import sys\n",
    "# Edit to wherever you've installed the NS_NFMC PyMC3 fork.\n",
    "sys.path.insert(1, '/home/richard/pymc3_dev/')\n",
    "import arviz as az\n",
    "import matplotlib\n",
    "import matplotlib.pyplot as plt\n",
    "import numpy as np\n",
    "import pymc3 as pm\n",
    "import theano.tensor as tt\n",
    "\n",
    "print(f\"Running on PyMC3 v{pm.__version__}\")\n",
    "\n",
    "az.style.use(\"arviz-darkgrid\")"
   ]
  },
  {
   "cell_type": "markdown",
   "id": "considered-activity",
   "metadata": {},
   "source": [
    "First example is a 4d Gaussian with 2 modes, with weights defined by w1 and w2. "
   ]
  },
  {
   "cell_type": "code",
   "execution_count": 2,
   "id": "increased-scene",
   "metadata": {},
   "outputs": [
    {
     "name": "stderr",
     "output_type": "stream",
     "text": [
      "Initializing normalizing flow based nested sampling...\n",
      "Sampling 2 chains in 0 job\n",
      "/home/richard/pymc3_dev/pymc3/sampling.py:1924: UserWarning: The effect of Potentials on other parameters is ignored during prior predictive sampling. This is likely to lead to invalid or biased predictive samples.\n",
      "  warnings.warn(\n",
      "Stage:   0, Evidence ratio: 0\n"
     ]
    },
    {
     "name": "stdout",
     "output_type": "stream",
     "text": [
      "Fit wT: Time: 0.014168262481689453 Wasserstein Distance: [0.8474825620651245, 0.8003817200660706, 0.7786293029785156, 0.6115620136260986]\n",
      "Fit spline Time: 0.009385108947753906\n",
      "logp: 0.690377950668335 -0.21684026718139648 time: 0.03184175491333008 iteration: 1 best: 1\n",
      "Fit wT: Time: 0.00804901123046875 Wasserstein Distance: [0.25761476159095764, 0.1985470950603485, 0.17934677004814148, 0.15498077869415283]\n",
      "Fit spline Time: 0.012322425842285156\n",
      "logp: 1.1084461212158203 -0.3533468246459961 time: 0.02801656723022461 iteration: 2 best: 1\n",
      "Fit wT: Time: 0.007997751235961914 Wasserstein Distance: [0.1977703869342804, 0.19477000832557678, 0.1721574366092682, 0.16540935635566711]\n",
      "Fit spline Time: 0.008966922760009766\n",
      "logp: 1.4351093769073486 -1.4507317543029785 time: 0.026996850967407227 iteration: 3 best: 1\n",
      "Fit wT: Time: 0.011228084564208984 Wasserstein Distance: [0.15951767563819885, 0.15047727525234222, 0.11893308907747269, 0.09843763709068298]\n",
      "Fit spline Time: 0.0066454410552978516\n",
      "logp: 1.622857689857483 -1.5639691352844238 time: 0.02134847640991211 iteration: 4 best: 1\n",
      "Fit wT: Time: 0.004266977310180664 Wasserstein Distance: [0.17372502386569977, 0.16121824085712433, 0.1520257145166397, 0.15041112899780273]\n",
      "Fit spline Time: 0.004903316497802734\n",
      "logp: 1.8416707515716553 -2.314244270324707 time: 0.013381481170654297 iteration: 5 best: 1\n",
      "Fit wT: Time: 0.005409717559814453 Wasserstein Distance: [0.18667618930339813, 0.15517176687717438, 0.14419874548912048, 0.10535309463739395]\n",
      "Fit spline Time: 0.004321098327636719\n",
      "logp: 2.1084187030792236 -2.5248851776123047 time: 0.013559103012084961 iteration: 6 best: 1\n",
      "Fit wT: Time: 0.004416465759277344 Wasserstein Distance: [0.19795358180999756, 0.17797556519508362, 0.17472302913665771, 0.11586027592420578]\n",
      "Fit spline Time: 0.0040836334228515625\n",
      "logp: 2.347320556640625 -6.64750862121582 time: 0.011698007583618164 iteration: 7 best: 1\n",
      "Fit wT: Time: 0.0049479007720947266 Wasserstein Distance: [0.14668285846710205, 0.1425461769104004, 0.13899727165699005, 0.13723160326480865]\n",
      "Fit spline Time: 0.004118680953979492\n",
      "logp: 2.4221911430358887 -8.195287704467773 time: 0.015084505081176758 iteration: 8 best: 1\n",
      "Fit wT: Time: 0.005257129669189453 Wasserstein Distance: [0.18832437694072723, 0.18202750384807587, 0.15963074564933777, 0.15112610161304474]\n",
      "Fit spline Time: 0.004151105880737305\n",
      "logp: 2.690593957901001 -9.903165817260742 time: 0.012694120407104492 iteration: 9 best: 1\n",
      "Fit wT: Time: 0.0044591426849365234 Wasserstein Distance: [0.16644561290740967, 0.1636102795600891, 0.15570349991321564, 0.11933758854866028]\n",
      "Fit spline Time: 0.005078554153442383\n",
      "logp: 2.8639016151428223 -16.620895385742188 time: 0.013275384902954102 iteration: 10 best: 1\n",
      "Fit wT: Time: 0.005864620208740234 Wasserstein Distance: [0.13836924731731415, 0.12585818767547607, 0.1214437186717987, 0.10510247200727463]\n",
      "Fit spline Time: 0.004535675048828125\n"
     ]
    },
    {
     "name": "stderr",
     "output_type": "stream",
     "text": [
      "Stage:   1, Evidence ratio: [0.]\n"
     ]
    },
    {
     "name": "stdout",
     "output_type": "stream",
     "text": [
      "Fit wT: Time: 0.007962226867675781 Wasserstein Distance: [1.3254743814468384, 1.0340160131454468, 0.956369161605835, 0.9553665518760681]\n",
      "Fit spline Time: 0.008472204208374023\n",
      "logp: 8.35971450805664 8.03439712524414 time: 0.028404951095581055 iteration: 1 best: 1\n",
      "Fit wT: Time: 0.009069204330444336 Wasserstein Distance: [0.18725724518299103, 0.17116914689540863, 0.1505936086177826, 0.13677076995372772]\n",
      "Fit spline Time: 0.00855255126953125\n",
      "logp: 8.515486717224121 7.987483501434326 time: 0.027385473251342773 iteration: 2 best: 1\n",
      "Fit wT: Time: 0.0060579776763916016 Wasserstein Distance: [0.1956552416086197, 0.15566404163837433, 0.14948906004428864, 0.14502522349357605]\n",
      "Fit spline Time: 0.0068318843841552734\n",
      "logp: 8.897970199584961 7.852532386779785 time: 0.022930145263671875 iteration: 3 best: 1\n",
      "Fit wT: Time: 0.004259586334228516 Wasserstein Distance: [0.1601441204547882, 0.15915681421756744, 0.1187867820262909, 0.10834762454032898]\n",
      "Fit spline Time: 0.0057849884033203125\n",
      "logp: 9.16910171508789 7.738177299499512 time: 0.016329050064086914 iteration: 4 best: 1\n",
      "Fit wT: Time: 0.0045850276947021484 Wasserstein Distance: [0.2759595513343811, 0.17586490511894226, 0.15022678673267365, 0.1300041824579239]\n",
      "Fit spline Time: 0.0039751529693603516\n",
      "logp: 9.549954414367676 7.641422271728516 time: 0.011946439743041992 iteration: 5 best: 1\n",
      "Fit wT: Time: 0.005636692047119141 Wasserstein Distance: [0.27104413509368896, 0.18921047449111938, 0.14704802632331848, 0.12494319677352905]\n",
      "Fit spline Time: 0.004404544830322266\n",
      "logp: 9.984681129455566 7.442244529724121 time: 0.013108968734741211 iteration: 6 best: 1\n",
      "Fit wT: Time: 0.004290103912353516 Wasserstein Distance: [0.1730954647064209, 0.1555728167295456, 0.15497608482837677, 0.11017350852489471]\n",
      "Fit spline Time: 0.005185365676879883\n",
      "logp: 10.208486557006836 7.330573081970215 time: 0.01269221305847168 iteration: 7 best: 1\n",
      "Fit wT: Time: 0.004186868667602539 Wasserstein Distance: [0.2081948220729828, 0.2021905481815338, 0.18779928982257843, 0.15437763929367065]\n",
      "Fit spline Time: 0.004331350326538086\n",
      "logp: 10.708136558532715 6.949835777282715 time: 0.011809825897216797 iteration: 8 best: 1\n",
      "Fit wT: Time: 0.004935741424560547 Wasserstein Distance: [0.1520010232925415, 0.14802640676498413, 0.14779938757419586, 0.11674749851226807]\n",
      "Fit spline Time: 0.0042781829833984375\n",
      "logp: 10.951805114746094 6.982524871826172 time: 0.012188911437988281 iteration: 9 best: 1\n",
      "Fit wT: Time: 0.0049686431884765625 Wasserstein Distance: [0.15117420256137848, 0.14276669919490814, 0.13558752834796906, 0.13302960991859436]\n",
      "Fit spline Time: 0.004316806793212891\n",
      "logp: 11.06497859954834 6.87567138671875 time: 0.012542009353637695 iteration: 10 best: 1\n",
      "Fit wT: Time: 0.0052335262298583984 Wasserstein Distance: [0.23148660361766815, 0.191096693277359, 0.1675226092338562, 0.14128516614437103]\n",
      "Fit spline Time: 0.004106283187866211\n"
     ]
    },
    {
     "name": "stderr",
     "output_type": "stream",
     "text": [
      "Stage:   2, Evidence ratio: [0.00157217]\n"
     ]
    },
    {
     "name": "stdout",
     "output_type": "stream",
     "text": [
      "Fit wT: Time: 0.0006930828094482422 Wasserstein Distance: [1.232795000076294, 1.0866725444793701, 1.084507942199707, 0.9953871965408325]\n",
      "Fit spline Time: 0.008207559585571289\n",
      "logp: 16.535404205322266 15.52352237701416 time: 0.014474153518676758 iteration: 1 best: 1\n",
      "Fit wT: Time: 0.009221792221069336 Wasserstein Distance: [0.2320111244916916, 0.19011496007442474, 0.18371985852718353, 0.14082710444927216]\n",
      "Fit spline Time: 0.008350849151611328\n",
      "logp: 16.911775588989258 15.20749568939209 time: 0.02533698081970215 iteration: 2 best: 1\n",
      "Fit wT: Time: 0.006296873092651367 Wasserstein Distance: [0.1857759952545166, 0.16943323612213135, 0.15376411378383636, 0.12356206774711609]\n",
      "Fit spline Time: 0.004925251007080078\n",
      "logp: 17.233030319213867 14.298898696899414 time: 0.023456335067749023 iteration: 3 best: 1\n",
      "Fit wT: Time: 0.007788181304931641 Wasserstein Distance: [0.22134263813495636, 0.20733562111854553, 0.16192315518856049, 0.09406543523073196]\n",
      "Fit spline Time: 0.008832931518554688\n",
      "logp: 17.571239471435547 13.998699188232422 time: 0.0206298828125 iteration: 4 best: 1\n",
      "Fit wT: Time: 0.0044384002685546875 Wasserstein Distance: [0.17900913953781128, 0.1765555888414383, 0.16107337176799774, 0.12738561630249023]\n",
      "Fit spline Time: 0.004150867462158203\n",
      "logp: 17.74591064453125 13.905346870422363 time: 0.012833118438720703 iteration: 5 best: 1\n",
      "Fit wT: Time: 0.0043833255767822266 Wasserstein Distance: [0.17161399126052856, 0.15381307899951935, 0.15172980725765228, 0.1333969235420227]\n",
      "Fit spline Time: 0.004252433776855469\n",
      "logp: 18.026531219482422 13.560333251953125 time: 0.011935234069824219 iteration: 6 best: 1\n",
      "Fit wT: Time: 0.006139516830444336 Wasserstein Distance: [0.156391903758049, 0.14189159870147705, 0.13920485973358154, 0.10989745706319809]\n",
      "Fit spline Time: 0.00511622428894043\n",
      "logp: 18.230806350708008 13.397500991821289 time: 0.015125036239624023 iteration: 7 best: 1\n",
      "Fit wT: Time: 0.005383491516113281 Wasserstein Distance: [0.19160056114196777, 0.15734823048114777, 0.15318366885185242, 0.11595837026834488]\n",
      "Fit spline Time: 0.004930019378662109\n",
      "logp: 18.50428581237793 13.233539581298828 time: 0.013429403305053711 iteration: 8 best: 1\n",
      "Fit wT: Time: 0.005147695541381836 Wasserstein Distance: [0.20838207006454468, 0.18688860535621643, 0.17070052027702332, 0.10017523914575577]\n",
      "Fit spline Time: 0.004183292388916016\n",
      "logp: 18.72334098815918 12.953170776367188 time: 0.012881278991699219 iteration: 9 best: 1\n",
      "Fit wT: Time: 0.004342555999755859 Wasserstein Distance: [0.16979996860027313, 0.1291894167661667, 0.12545105814933777, 0.11071665585041046]\n",
      "Fit spline Time: 0.0049173831939697266\n",
      "logp: 18.837387084960938 12.777729034423828 time: 0.012272119522094727 iteration: 10 best: 1\n",
      "Fit wT: Time: 0.004923105239868164 Wasserstein Distance: [0.16328254342079163, 0.1371135413646698, 0.13494972884655, 0.13126564025878906]\n",
      "Fit spline Time: 0.004241228103637695\n"
     ]
    },
    {
     "name": "stderr",
     "output_type": "stream",
     "text": [
      "Stage:   3, Evidence ratio: [0.96736994]\n"
     ]
    },
    {
     "name": "stdout",
     "output_type": "stream",
     "text": [
      "Fit wT: Time: 0.0006971359252929688 Wasserstein Distance: [1.2581045627593994, 1.172194480895996, 0.9861292839050293, 0.9833269119262695]\n",
      "Fit spline Time: 0.0048410892486572266\n",
      "logp: 24.01270294189453 23.784557342529297 time: 0.009261131286621094 iteration: 1 best: 1\n",
      "Fit wT: Time: 0.009932279586791992 Wasserstein Distance: [0.19464422762393951, 0.15981203317642212, 0.1321677714586258, 0.10910066962242126]\n",
      "Fit spline Time: 0.008914947509765625\n",
      "logp: 24.23331642150879 23.762155532836914 time: 0.028347492218017578 iteration: 2 best: 1\n",
      "Fit wT: Time: 0.00754237174987793 Wasserstein Distance: [0.21977612376213074, 0.21061934530735016, 0.17048460245132446, 0.14158201217651367]\n",
      "Fit spline Time: 0.008392333984375\n",
      "logp: 24.586774826049805 24.077713012695312 time: 0.027124881744384766 iteration: 3 best: 3\n",
      "Fit wT: Time: 0.012019634246826172 Wasserstein Distance: [0.23395037651062012, 0.16772620379924774, 0.15816344320774078, 0.13578952848911285]\n",
      "Fit spline Time: 0.004521369934082031\n",
      "logp: 25.00143051147461 23.7183780670166 time: 0.02584552764892578 iteration: 4 best: 3\n",
      "Fit wT: Time: 0.005213737487792969 Wasserstein Distance: [0.17847122251987457, 0.14944274723529816, 0.1462327539920807, 0.13231484591960907]\n",
      "Fit spline Time: 0.006729602813720703\n",
      "logp: 25.16362190246582 23.524494171142578 time: 0.01667499542236328 iteration: 5 best: 3\n",
      "Fit wT: Time: 0.005466461181640625 Wasserstein Distance: [0.15596657991409302, 0.14606526494026184, 0.13080871105194092, 0.11348243802785873]\n",
      "Fit spline Time: 0.008507251739501953\n",
      "logp: 25.233627319335938 23.255014419555664 time: 0.017516136169433594 iteration: 6 best: 3\n",
      "Fit wT: Time: 0.009755373001098633 Wasserstein Distance: [0.21568776667118073, 0.13451242446899414, 0.1320943832397461, 0.129752054810524]\n",
      "Fit spline Time: 0.010594606399536133\n",
      "logp: 25.492124557495117 22.9215030670166 time: 0.03514528274536133 iteration: 7 best: 3\n",
      "Fit wT: Time: 0.012926101684570312 Wasserstein Distance: [0.17050202190876007, 0.13389118015766144, 0.13196243345737457, 0.09464804083108902]\n",
      "Fit spline Time: 0.015011787414550781\n",
      "logp: 25.659269332885742 22.984676361083984 time: 0.031720638275146484 iteration: 8 best: 3\n",
      "Fit wT: Time: 0.01058650016784668 Wasserstein Distance: [0.17426443099975586, 0.1253889799118042, 0.11871388554573059, 0.11853466928005219]\n",
      "Fit spline Time: 0.009039163589477539\n",
      "logp: 25.805797576904297 22.821550369262695 time: 0.028313636779785156 iteration: 9 best: 3\n",
      "Fit wT: Time: 0.008759260177612305 Wasserstein Distance: [0.28515663743019104, 0.15896083414554596, 0.15671448409557343, 0.128106489777565]\n",
      "Fit spline Time: 0.010257244110107422\n",
      "logp: 26.296171188354492 19.818885803222656 time: 0.02835369110107422 iteration: 10 best: 3\n",
      "Fit wT: Time: 0.011931180953979492 Wasserstein Distance: [0.20599131286144257, 0.17756204307079315, 0.14276981353759766, 0.13254885375499725]\n",
      "Fit spline Time: 0.008712053298950195\n",
      "logp: 26.56772804260254 16.327987670898438 time: 0.029393911361694336 iteration: 11 best: 3\n",
      "Fit wT: Time: 0.010761022567749023 Wasserstein Distance: [0.18366840481758118, 0.1395060420036316, 0.13240975141525269, 0.11197666078805923]\n",
      "Fit spline Time: 0.007279157638549805\n",
      "logp: 26.805801391601562 16.319133758544922 time: 0.026009559631347656 iteration: 12 best: 3\n",
      "Fit wT: Time: 0.009072542190551758 Wasserstein Distance: [0.19671542942523956, 0.1903402954339981, 0.13543695211410522, 0.12873941659927368]\n",
      "Fit spline Time: 0.007785320281982422\n"
     ]
    },
    {
     "name": "stderr",
     "output_type": "stream",
     "text": [
      "/home/richard/pymc3_dev/pymc3/sampling.py:1924: UserWarning: The effect of Potentials on other parameters is ignored during prior predictive sampling. This is likely to lead to invalid or biased predictive samples.\n",
      "  warnings.warn(\n",
      "Stage:   0, Evidence ratio: 0\n"
     ]
    },
    {
     "name": "stdout",
     "output_type": "stream",
     "text": [
      "Fit wT: Time: 0.010138988494873047 Wasserstein Distance: [0.8481470942497253, 0.8324667811393738, 0.7880026698112488, 0.7621114253997803]\n",
      "Fit spline Time: 0.004666805267333984\n",
      "logp: 1.133952021598816 0.25612711906433105 time: 0.028116941452026367 iteration: 1 best: 1\n",
      "Fit wT: Time: 0.012213468551635742 Wasserstein Distance: [0.26868578791618347, 0.19491882622241974, 0.16406840085983276, 0.14278626441955566]\n",
      "Fit spline Time: 0.008285284042358398\n",
      "logp: 1.5358656644821167 -0.12287068367004395 time: 0.02369213104248047 iteration: 2 best: 1\n",
      "Fit wT: Time: 0.008929729461669922 Wasserstein Distance: [0.2602859437465668, 0.2293354868888855, 0.17728285491466522, 0.14335881173610687]\n",
      "Fit spline Time: 0.007896661758422852\n",
      "logp: 1.962255597114563 -1.198437213897705 time: 0.02621293067932129 iteration: 3 best: 1\n",
      "Fit wT: Time: 0.006977558135986328 Wasserstein Distance: [0.2662304937839508, 0.1928824931383133, 0.1469251811504364, 0.11830519139766693]\n",
      "Fit spline Time: 0.004152774810791016\n",
      "logp: 2.415450096130371 -1.0032896995544434 time: 0.027028560638427734 iteration: 4 best: 1\n",
      "Fit wT: Time: 0.008357763290405273 Wasserstein Distance: [0.1695820838212967, 0.16710498929023743, 0.14561094343662262, 0.12972120940685272]\n",
      "Fit spline Time: 0.009564638137817383\n",
      "logp: 2.595175266265869 -1.3288545608520508 time: 0.03119039535522461 iteration: 5 best: 1\n",
      "Fit wT: Time: 0.008855581283569336 Wasserstein Distance: [0.1553456038236618, 0.1396205723285675, 0.1294531375169754, 0.11482595652341843]\n",
      "Fit spline Time: 0.012250185012817383\n",
      "logp: 2.696080207824707 -1.2815852165222168 time: 0.024583816528320312 iteration: 6 best: 1\n",
      "Fit wT: Time: 0.008380413055419922 Wasserstein Distance: [0.25337448716163635, 0.1502290517091751, 0.1497783064842224, 0.13604559004306793]\n",
      "Fit spline Time: 0.007444858551025391\n",
      "logp: 2.9952754974365234 -2.8689184188842773 time: 0.025096893310546875 iteration: 7 best: 1\n",
      "Fit wT: Time: 0.004332304000854492 Wasserstein Distance: [0.20138578116893768, 0.18943041563034058, 0.15096639096736908, 0.09594052284955978]\n",
      "Fit spline Time: 0.01224660873413086\n",
      "logp: 3.2721691131591797 -2.3917555809020996 time: 0.029819726943969727 iteration: 8 best: 1\n",
      "Fit wT: Time: 0.012681722640991211 Wasserstein Distance: [0.2391640543937683, 0.17099376022815704, 0.14816266298294067, 0.1373274028301239]\n",
      "Fit spline Time: 0.013776779174804688\n",
      "logp: 3.6282646656036377 -4.873907566070557 time: 0.029959917068481445 iteration: 9 best: 1\n",
      "Fit wT: Time: 0.004732847213745117 Wasserstein Distance: [0.17775629460811615, 0.171902135014534, 0.14683060348033905, 0.11100412905216217]\n",
      "Fit spline Time: 0.008448123931884766\n",
      "logp: 3.8458752632141113 -5.836626052856445 time: 0.024473905563354492 iteration: 10 best: 1\n",
      "Fit wT: Time: 0.006536006927490234 Wasserstein Distance: [0.16137705743312836, 0.13560278713703156, 0.12194035947322845, 0.1028224378824234]\n",
      "Fit spline Time: 0.010569572448730469\n"
     ]
    },
    {
     "name": "stderr",
     "output_type": "stream",
     "text": [
      "Stage:   1, Evidence ratio: [0.]\n"
     ]
    },
    {
     "name": "stdout",
     "output_type": "stream",
     "text": [
      "Fit wT: Time: 0.007192134857177734 Wasserstein Distance: [1.3496464490890503, 1.0164395570755005, 0.9614391922950745, 0.960504412651062]\n",
      "Fit spline Time: 0.008636951446533203\n",
      "logp: 9.240791320800781 9.097434043884277 time: 0.019774436950683594 iteration: 1 best: 1\n",
      "Fit wT: Time: 0.008757591247558594 Wasserstein Distance: [0.2254181206226349, 0.2151004523038864, 0.17069599032402039, 0.13550472259521484]\n",
      "Fit spline Time: 0.013383865356445312\n",
      "logp: 9.554898262023926 9.015765190124512 time: 0.025548934936523438 iteration: 2 best: 1\n",
      "Fit wT: Time: 0.009079933166503906 Wasserstein Distance: [0.2590203583240509, 0.1611209362745285, 0.15371207892894745, 0.12050910294055939]\n",
      "Fit spline Time: 0.013740301132202148\n",
      "logp: 9.803106307983398 8.582013130187988 time: 0.026214122772216797 iteration: 3 best: 1\n",
      "Fit wT: Time: 0.01058053970336914 Wasserstein Distance: [0.18389403820037842, 0.17390935122966766, 0.15160498023033142, 0.11819523572921753]\n",
      "Fit spline Time: 0.012990236282348633\n",
      "logp: 10.183287620544434 8.404681205749512 time: 0.032349586486816406 iteration: 4 best: 1\n",
      "Fit wT: Time: 0.010596513748168945 Wasserstein Distance: [0.1762840896844864, 0.16230972111225128, 0.15967728197574615, 0.1278822273015976]\n",
      "Fit spline Time: 0.008546590805053711\n",
      "logp: 10.482847213745117 8.16476058959961 time: 0.022671222686767578 iteration: 5 best: 1\n",
      "Fit wT: Time: 0.01616692543029785 Wasserstein Distance: [0.2429714798927307, 0.19698379933834076, 0.18577660620212555, 0.16681204736232758]\n",
      "Fit spline Time: 0.008875131607055664\n",
      "logp: 10.944833755493164 7.302811622619629 time: 0.030164480209350586 iteration: 6 best: 1\n",
      "Fit wT: Time: 0.008538961410522461 Wasserstein Distance: [0.19874650239944458, 0.1692637950181961, 0.151748925447464, 0.12879817187786102]\n",
      "Fit spline Time: 0.004946708679199219\n",
      "logp: 11.267556190490723 6.380237579345703 time: 0.018531322479248047 iteration: 7 best: 1\n",
      "Fit wT: Time: 0.00460362434387207 Wasserstein Distance: [0.20137284696102142, 0.1893569380044937, 0.16812089085578918, 0.13822175562381744]\n",
      "Fit spline Time: 0.005591630935668945\n",
      "logp: 11.590814590454102 3.0861353874206543 time: 0.019066572189331055 iteration: 8 best: 1\n",
      "Fit wT: Time: 0.010694265365600586 Wasserstein Distance: [0.14648614823818207, 0.13482660055160522, 0.11694365739822388, 0.10351576656103134]\n",
      "Fit spline Time: 0.008243322372436523\n",
      "logp: 11.710683822631836 0.12044143676757812 time: 0.026714563369750977 iteration: 9 best: 1\n",
      "Fit wT: Time: 0.012847900390625 Wasserstein Distance: [0.24888455867767334, 0.19994953274726868, 0.16441814601421356, 0.13118910789489746]\n",
      "Fit spline Time: 0.007392406463623047\n",
      "logp: 12.163689613342285 -2.395662307739258 time: 0.023853540420532227 iteration: 10 best: 1\n",
      "Fit wT: Time: 0.0061187744140625 Wasserstein Distance: [0.18731696903705597, 0.1566474884748459, 0.14567339420318604, 0.13808532059192657]\n",
      "Fit spline Time: 0.005476951599121094\n"
     ]
    },
    {
     "name": "stderr",
     "output_type": "stream",
     "text": [
      "Stage:   2, Evidence ratio: [0.00330146]\n"
     ]
    },
    {
     "name": "stdout",
     "output_type": "stream",
     "text": [
      "Fit wT: Time: 0.0009813308715820312 Wasserstein Distance: [1.2132123708724976, 1.175370216369629, 1.0261907577514648, 0.9803093671798706]\n",
      "Fit spline Time: 0.008313655853271484\n",
      "logp: 16.418956756591797 15.750694274902344 time: 0.016763687133789062 iteration: 1 best: 1\n",
      "Fit wT: Time: 0.006019115447998047 Wasserstein Distance: [0.23010306060314178, 0.19907750189304352, 0.17785638570785522, 0.15788699686527252]\n",
      "Fit spline Time: 0.004266500473022461\n",
      "logp: 16.80118179321289 15.53861141204834 time: 0.0221710205078125 iteration: 2 best: 1\n",
      "Fit wT: Time: 0.006872415542602539 Wasserstein Distance: [0.1889079213142395, 0.18442142009735107, 0.181582510471344, 0.17709501087665558]\n",
      "Fit spline Time: 0.008359670639038086\n",
      "logp: 17.199750900268555 15.510289192199707 time: 0.02430558204650879 iteration: 3 best: 1\n",
      "Fit wT: Time: 0.005892276763916016 Wasserstein Distance: [0.1939583718776703, 0.14729852974414825, 0.12227015942335129, 0.10546594113111496]\n",
      "Fit spline Time: 0.004084587097167969\n",
      "logp: 17.40052032470703 15.352324485778809 time: 0.013127565383911133 iteration: 4 best: 1\n",
      "Fit wT: Time: 0.005210399627685547 Wasserstein Distance: [0.1765381395816803, 0.1600119024515152, 0.15954789519309998, 0.1564711332321167]\n",
      "Fit spline Time: 0.004502296447753906\n",
      "logp: 17.676044464111328 15.309048652648926 time: 0.013329744338989258 iteration: 5 best: 1\n",
      "Fit wT: Time: 0.004321575164794922 Wasserstein Distance: [0.22877807915210724, 0.1615927517414093, 0.157547265291214, 0.14968103170394897]\n",
      "Fit spline Time: 0.004464864730834961\n",
      "logp: 18.033527374267578 14.434483528137207 time: 0.011757850646972656 iteration: 6 best: 1\n",
      "Fit wT: Time: 0.0041484832763671875 Wasserstein Distance: [0.19253620505332947, 0.14693982899188995, 0.1213570088148117, 0.11639353632926941]\n",
      "Fit spline Time: 0.004110097885131836\n",
      "logp: 18.21322250366211 13.688557624816895 time: 0.011282682418823242 iteration: 7 best: 1\n",
      "Fit wT: Time: 0.0048656463623046875 Wasserstein Distance: [0.2101120501756668, 0.1749345362186432, 0.14032746851444244, 0.12145042419433594]\n",
      "Fit spline Time: 0.004240989685058594\n",
      "logp: 18.44510269165039 13.910683631896973 time: 0.012248516082763672 iteration: 8 best: 1\n",
      "Fit wT: Time: 0.005466938018798828 Wasserstein Distance: [0.19656458497047424, 0.15698684751987457, 0.153743714094162, 0.14386679232120514]\n",
      "Fit spline Time: 0.004126548767089844\n",
      "logp: 18.795320510864258 12.339942932128906 time: 0.012738227844238281 iteration: 9 best: 1\n",
      "Fit wT: Time: 0.004347085952758789 Wasserstein Distance: [0.1627100706100464, 0.13776835799217224, 0.13222478330135345, 0.11211712658405304]\n",
      "Fit spline Time: 0.004503011703491211\n",
      "logp: 18.999420166015625 10.879638671875 time: 0.01186680793762207 iteration: 10 best: 1\n",
      "Fit wT: Time: 0.004346132278442383 Wasserstein Distance: [0.1878003031015396, 0.1675160527229309, 0.12914390861988068, 0.11300863325595856]\n",
      "Fit spline Time: 0.004151821136474609\n"
     ]
    },
    {
     "name": "stderr",
     "output_type": "stream",
     "text": [
      "Stage:   3, Evidence ratio: [0.97673243]\n"
     ]
    },
    {
     "name": "stdout",
     "output_type": "stream",
     "text": [
      "Fit wT: Time: 0.0009989738464355469 Wasserstein Distance: [1.3827805519104004, 1.01545250415802, 0.994701087474823, 0.9817093014717102]\n",
      "Fit spline Time: 0.012572050094604492\n",
      "logp: 23.9813175201416 22.792842864990234 time: 0.024317264556884766 iteration: 1 best: 1\n",
      "Fit wT: Time: 0.008033990859985352 Wasserstein Distance: [0.32371553778648376, 0.16754832863807678, 0.1644161194562912, 0.1583649218082428]\n",
      "Fit spline Time: 0.010334014892578125\n",
      "logp: 24.42237663269043 21.984508514404297 time: 0.03183102607727051 iteration: 2 best: 1\n",
      "Fit wT: Time: 0.010536432266235352 Wasserstein Distance: [0.27275604009628296, 0.13738246262073517, 0.13630236685276031, 0.12210801243782043]\n",
      "Fit spline Time: 0.00561070442199707\n",
      "logp: 24.72285270690918 21.210996627807617 time: 0.01996755599975586 iteration: 3 best: 1\n",
      "Fit wT: Time: 0.0048274993896484375 Wasserstein Distance: [0.20133398473262787, 0.1973753720521927, 0.19618786871433258, 0.15642833709716797]\n",
      "Fit spline Time: 0.004537105560302734\n",
      "logp: 25.07418441772461 20.49822235107422 time: 0.013480901718139648 iteration: 4 best: 1\n",
      "Fit wT: Time: 0.005110979080200195 Wasserstein Distance: [0.1755264401435852, 0.17053888738155365, 0.1553315669298172, 0.13371394574642181]\n",
      "Fit spline Time: 0.0044956207275390625\n",
      "logp: 25.423463821411133 18.511672973632812 time: 0.012906789779663086 iteration: 5 best: 1\n",
      "Fit wT: Time: 0.004537105560302734 Wasserstein Distance: [0.19102658331394196, 0.17953062057495117, 0.1752690076828003, 0.15299229323863983]\n",
      "Fit spline Time: 0.00415802001953125\n",
      "logp: 25.699735641479492 16.781230926513672 time: 0.011845588684082031 iteration: 6 best: 1\n",
      "Fit wT: Time: 0.0045948028564453125 Wasserstein Distance: [0.19419042766094208, 0.1923399120569229, 0.1219300776720047, 0.09637781977653503]\n",
      "Fit spline Time: 0.004160642623901367\n",
      "logp: 25.948333740234375 15.529800415039062 time: 0.0119781494140625 iteration: 7 best: 1\n",
      "Fit wT: Time: 0.004216909408569336 Wasserstein Distance: [0.24941088259220123, 0.13941387832164764, 0.12034599483013153, 0.09521383792161942]\n",
      "Fit spline Time: 0.00449371337890625\n",
      "logp: 26.2587833404541 14.413717269897461 time: 0.011929512023925781 iteration: 8 best: 1\n",
      "Fit wT: Time: 0.004578113555908203 Wasserstein Distance: [0.18289411067962646, 0.1571597456932068, 0.11322536319494247, 0.09534625709056854]\n",
      "Fit spline Time: 0.004179477691650391\n",
      "logp: 26.347700119018555 12.499341011047363 time: 0.011970281600952148 iteration: 9 best: 1\n",
      "Fit wT: Time: 0.0045888423919677734 Wasserstein Distance: [0.19487085938453674, 0.1704666018486023, 0.1203424409031868, 0.0998627319931984]\n",
      "Fit spline Time: 0.004436016082763672\n",
      "logp: 26.539884567260742 14.518682479858398 time: 0.012387275695800781 iteration: 10 best: 1\n",
      "Fit wT: Time: 0.004775285720825195 Wasserstein Distance: [0.14570869505405426, 0.12380465865135193, 0.12188641726970673, 0.11670961230993271]\n",
      "Fit spline Time: 0.0043103694915771484\n"
     ]
    }
   ],
   "source": [
    "n = 4\n",
    "\n",
    "mu1 = np.ones(n) * (1.0 / 2)\n",
    "mu2 = -mu1\n",
    "\n",
    "stdev = 0.1\n",
    "sigma = np.power(stdev, 2) * np.eye(n)\n",
    "isigma = np.linalg.inv(sigma)\n",
    "dsigma = np.linalg.det(sigma)\n",
    "\n",
    "w1 = 0.1  # one mode with 0.1 of the mass                                                                                                                                                                   \n",
    "w2 = 1 - w1  # the other mode with 0.9 of the mass                                                                                                                                                          \n",
    "\n",
    "def two_gaussians(x):\n",
    "    log_like1 = (\n",
    "        -0.5 * n * tt.log(2 * np.pi)\n",
    "        - 0.5 * tt.log(dsigma)\n",
    "        - 0.5 * (x - mu1).T.dot(isigma).dot(x - mu1)\n",
    "    )\n",
    "    log_like2 = (\n",
    "        -0.5 * n * tt.log(2 * np.pi)\n",
    "        - 0.5 * tt.log(dsigma)\n",
    "        - 0.5 * (x - mu2).T.dot(isigma).dot(x - mu2)\n",
    "    )\n",
    "    return pm.math.logsumexp([tt.log(w1) + log_like1, tt.log(w2) + log_like2])\n",
    "\n",
    "with pm.Model() as model:\n",
    "    X = pm.Uniform(\n",
    "        \"X\",\n",
    "        shape=n,\n",
    "        lower=-2.0 * np.ones_like(mu1),\n",
    "        upper=2.0 * np.ones_like(mu1),\n",
    "        testval=-1.0 * np.ones_like(mu1),\n",
    "    )\n",
    "    llk = pm.Potential(\"llk\", two_gaussians(X))\n",
    "    trace = pm.sample_ns_nfmc(50000, rho=1e-3, chains=2, frac_validate=0.3, alpha=(0,0))\n",
    "    az_trace = az.from_pymc3(trace)\n"
   ]
  },
  {
   "cell_type": "code",
   "execution_count": 3,
   "id": "shared-struggle",
   "metadata": {},
   "outputs": [
    {
     "data": {
      "text/plain": [
       "<Figure size 720x480 with 0 Axes>"
      ]
     },
     "metadata": {},
     "output_type": "display_data"
    },
    {
     "data": {
      "image/png": "[encoded data removed]",
      "text/plain": [
       "<Figure size 1200x200 with 2 Axes>"
      ]
     },
     "metadata": {},
     "output_type": "display_data"
    }
   ],
   "source": [
    "plt.figure()\n",
    "ax = az.plot_trace(az_trace, compact=True, kind=\"rank_bars\")\n",
    "ax[0, 0].axvline(-0.5, 0, 0.9, color=\"k\")\n",
    "ax[0, 0].axvline(0.5, 0, 0.1, color=\"k\")\n",
    "plt.show()"
   ]
  },
  {
   "cell_type": "markdown",
   "id": "corrected-exposure",
   "metadata": {},
   "source": [
    "Second example is a basic linear regression problem, simulating a y=ax+b model. Observations are distributed as d~N(ax+b,0.1)."
   ]
  },
  {
   "cell_type": "code",
   "execution_count": 4,
   "id": "numerous-subsection",
   "metadata": {},
   "outputs": [
    {
     "name": "stderr",
     "output_type": "stream",
     "text": [
      "Initializing normalizing flow based nested sampling...\n",
      "Sampling 2 chains in 0 job\n",
      "Stage:   0, Evidence ratio: 0\n"
     ]
    },
    {
     "name": "stdout",
     "output_type": "stream",
     "text": [
      "Fit wT: Time: 0.01712656021118164 Wasserstein Distance: [2.3448073863983154, 1.1384986639022827]\n",
      "Fit spline Time: 0.0066149234771728516\n",
      "logp: 4.935149192810059 4.92571496963501 time: 0.029764175415039062 iteration: 1 best: 1\n",
      "Fit wT: Time: 0.014779090881347656 Wasserstein Distance: [0.24407488107681274, 0.13697360455989838]\n",
      "Fit spline Time: 0.006750583648681641\n",
      "logp: 5.1990814208984375 4.990352153778076 time: 0.024976491928100586 iteration: 2 best: 2\n",
      "Fit wT: Time: 0.015143156051635742 Wasserstein Distance: [0.1500740498304367, 0.08181936293840408]\n",
      "Fit spline Time: 0.0023398399353027344\n",
      "logp: 5.284478187561035 4.973666191101074 time: 0.0257570743560791 iteration: 3 best: 2\n",
      "Fit wT: Time: 0.0007030963897705078 Wasserstein Distance: [0.11742943525314331, 0.09680186212062836]\n",
      "Fit spline Time: 0.002386808395385742\n",
      "logp: 5.382384777069092 4.956123352050781 time: 0.01098179817199707 iteration: 4 best: 2\n",
      "Fit wT: Time: 0.016287803649902344 Wasserstein Distance: [0.1232573390007019, 0.11828532814979553]\n",
      "Fit spline Time: 0.0025115013122558594\n",
      "logp: 5.480195999145508 4.956058025360107 time: 0.021938800811767578 iteration: 5 best: 2\n",
      "Fit wT: Time: 0.011609077453613281 Wasserstein Distance: [0.11419201642274857, 0.07681910693645477]\n",
      "Fit spline Time: 0.0023713111877441406\n",
      "logp: 5.513311386108398 4.8928914070129395 time: 0.01735520362854004 iteration: 6 best: 2\n",
      "Fit wT: Time: 0.011443138122558594 Wasserstein Distance: [0.11328110098838806, 0.0866905152797699]\n",
      "Fit spline Time: 0.0025606155395507812\n",
      "logp: 5.6062397956848145 4.868899345397949 time: 0.0172426700592041 iteration: 7 best: 2\n",
      "Fit wT: Time: 0.009455442428588867 Wasserstein Distance: [0.08446183800697327, 0.0771326944231987]\n",
      "Fit spline Time: 0.002311229705810547\n",
      "logp: 5.631506443023682 4.859863758087158 time: 0.014971256256103516 iteration: 8 best: 2\n",
      "Fit wT: Time: 0.009453058242797852 Wasserstein Distance: [0.0692359134554863, 0.058831945061683655]\n",
      "Fit spline Time: 0.012292146682739258\n",
      "logp: 5.655075550079346 4.853327751159668 time: 0.024951934814453125 iteration: 9 best: 2\n",
      "Fit wT: Time: 0.010301828384399414 Wasserstein Distance: [0.06230597570538521, 0.04710133373737335]\n",
      "Fit spline Time: 0.002466440200805664\n",
      "logp: 5.659295082092285 4.850184440612793 time: 0.016085147857666016 iteration: 10 best: 2\n",
      "Fit wT: Time: 0.010066986083984375 Wasserstein Distance: [0.10469099134206772, 0.07546339184045792]\n",
      "Fit spline Time: 0.0024089813232421875\n",
      "logp: 5.722264289855957 4.787483215332031 time: 0.023263216018676758 iteration: 11 best: 2\n",
      "Fit wT: Time: 0.014837980270385742 Wasserstein Distance: [0.09325050562620163, 0.07517281174659729]\n",
      "Fit spline Time: 0.005262851715087891\n"
     ]
    },
    {
     "name": "stderr",
     "output_type": "stream",
     "text": [
      "Stage:   1, Evidence ratio: [0.]\n"
     ]
    },
    {
     "name": "stdout",
     "output_type": "stream",
     "text": [
      "Fit wT: Time: 0.025293588638305664 Wasserstein Distance: [2.351654052734375, 1.1889034509658813]\n",
      "Fit spline Time: 0.00561070442199707\n",
      "logp: 11.695693969726562 11.139833450317383 time: 0.03779482841491699 iteration: 1 best: 1\n",
      "Fit wT: Time: 0.03105473518371582 Wasserstein Distance: [0.12321677058935165, 0.10112271457910538]\n",
      "Fit spline Time: 0.006470203399658203\n",
      "logp: 11.781845092773438 11.057123184204102 time: 0.045359134674072266 iteration: 2 best: 1\n",
      "Fit wT: Time: 0.014642000198364258 Wasserstein Distance: [0.23599116504192352, 0.11641319841146469]\n",
      "Fit spline Time: 0.0023527145385742188\n",
      "logp: 12.01923656463623 11.011297225952148 time: 0.021311283111572266 iteration: 3 best: 1\n",
      "Fit wT: Time: 0.007001161575317383 Wasserstein Distance: [0.1237730011343956, 0.06618451327085495]\n",
      "Fit spline Time: 0.0023670196533203125\n",
      "logp: 12.099847793579102 10.932319641113281 time: 0.012537240982055664 iteration: 4 best: 1\n",
      "Fit wT: Time: 0.009283304214477539 Wasserstein Distance: [0.11301857978105545, 0.08140851557254791]\n",
      "Fit spline Time: 0.002430438995361328\n",
      "logp: 12.116438865661621 10.98421859741211 time: 0.015563726425170898 iteration: 5 best: 1\n",
      "Fit wT: Time: 0.011544227600097656 Wasserstein Distance: [0.1013365089893341, 0.0791088119149208]\n",
      "Fit spline Time: 0.0023696422576904297\n",
      "logp: 12.151703834533691 10.917353630065918 time: 0.017514944076538086 iteration: 6 best: 1\n",
      "Fit wT: Time: 0.011482477188110352 Wasserstein Distance: [0.07770905643701553, 0.07113350182771683]\n",
      "Fit spline Time: 0.002584695816040039\n",
      "logp: 12.163909912109375 10.878608703613281 time: 0.01742696762084961 iteration: 7 best: 1\n",
      "Fit wT: Time: 0.011087656021118164 Wasserstein Distance: [0.10959435999393463, 0.0884009376168251]\n",
      "Fit spline Time: 0.0023555755615234375\n",
      "logp: 12.222915649414062 10.917386054992676 time: 0.016805648803710938 iteration: 8 best: 1\n",
      "Fit wT: Time: 0.019100666046142578 Wasserstein Distance: [0.1054435595870018, 0.060849420726299286]\n",
      "Fit spline Time: 0.0025148391723632812\n",
      "logp: 12.230613708496094 10.897443771362305 time: 0.027827024459838867 iteration: 9 best: 1\n",
      "Fit wT: Time: 0.021414518356323242 Wasserstein Distance: [0.0836092010140419, 0.05956209450960159]\n",
      "Fit spline Time: 0.0025823116302490234\n",
      "logp: 12.237340927124023 10.870134353637695 time: 0.03232574462890625 iteration: 10 best: 1\n",
      "Fit wT: Time: 0.008269548416137695 Wasserstein Distance: [0.07282193750143051, 0.07281874865293503]\n",
      "Fit spline Time: 0.002717256546020508\n"
     ]
    },
    {
     "name": "stderr",
     "output_type": "stream",
     "text": [
      "Stage:   2, Evidence ratio: [0.07418587]\n"
     ]
    },
    {
     "name": "stdout",
     "output_type": "stream",
     "text": [
      "Fit wT: Time: 0.0006635189056396484 Wasserstein Distance: [2.207838296890259, 1.43980872631073]\n",
      "Fit spline Time: 0.006471395492553711\n",
      "logp: 16.983060836791992 16.774948120117188 time: 0.010368824005126953 iteration: 1 best: 1\n",
      "Fit wT: Time: 0.0162506103515625 Wasserstein Distance: [0.8494684100151062, 0.32902762293815613]\n",
      "Fit spline Time: 0.0027129650115966797\n",
      "logp: 18.628889083862305 18.2143611907959 time: 0.031323909759521484 iteration: 2 best: 2\n",
      "Fit wT: Time: 0.024647951126098633 Wasserstein Distance: [0.1461135298013687, 0.13615021109580994]\n",
      "Fit spline Time: 0.002407073974609375\n",
      "logp: 18.816158294677734 18.192996978759766 time: 0.040190696716308594 iteration: 3 best: 2\n",
      "Fit wT: Time: 0.019438743591308594 Wasserstein Distance: [0.1331522911787033, 0.07768683135509491]\n",
      "Fit spline Time: 0.0033767223358154297\n",
      "logp: 18.911771774291992 18.20559310913086 time: 0.027182579040527344 iteration: 4 best: 2\n",
      "Fit wT: Time: 0.011971235275268555 Wasserstein Distance: [0.11525342613458633, 0.07866814732551575]\n",
      "Fit spline Time: 0.0031855106353759766\n",
      "logp: 18.957746505737305 18.225727081298828 time: 0.01873159408569336 iteration: 5 best: 5\n",
      "Fit wT: Time: 0.008812427520751953 Wasserstein Distance: [0.0873851329088211, 0.0723491907119751]\n",
      "Fit spline Time: 0.0027136802673339844\n",
      "logp: 18.952999114990234 18.211498260498047 time: 0.014852523803710938 iteration: 6 best: 5\n",
      "Fit wT: Time: 0.009903430938720703 Wasserstein Distance: [0.10200243443250656, 0.09652339667081833]\n",
      "Fit spline Time: 0.0025739669799804688\n",
      "logp: 19.016910552978516 18.22268295288086 time: 0.016099214553833008 iteration: 7 best: 5\n",
      "Fit wT: Time: 0.009830713272094727 Wasserstein Distance: [0.1044735237956047, 0.06825170665979385]\n",
      "Fit spline Time: 0.0023758411407470703\n",
      "logp: 19.02154541015625 18.20847511291504 time: 0.015685081481933594 iteration: 8 best: 5\n",
      "Fit wT: Time: 0.014615297317504883 Wasserstein Distance: [0.10441411286592484, 0.06210671737790108]\n",
      "Fit spline Time: 0.0023844242095947266\n",
      "logp: 19.022972106933594 18.206642150878906 time: 0.02604079246520996 iteration: 9 best: 5\n",
      "Fit wT: Time: 0.02831864356994629 Wasserstein Distance: [0.08302944898605347, 0.07902514934539795]\n",
      "Fit spline Time: 0.002481698989868164\n",
      "logp: 19.072933197021484 18.153160095214844 time: 0.037618398666381836 iteration: 10 best: 5\n",
      "Fit wT: Time: 0.025555849075317383 Wasserstein Distance: [0.09729048609733582, 0.08099652081727982]\n",
      "Fit spline Time: 0.0023937225341796875\n",
      "logp: 19.100704193115234 18.1561222076416 time: 0.04036855697631836 iteration: 11 best: 5\n",
      "Fit wT: Time: 0.017551183700561523 Wasserstein Distance: [0.08261588215827942, 0.07886014878749847]\n",
      "Fit spline Time: 0.0034036636352539062\n",
      "logp: 19.122344970703125 18.165342330932617 time: 0.024338722229003906 iteration: 12 best: 5\n",
      "Fit wT: Time: 0.01799750328063965 Wasserstein Distance: [0.10131168365478516, 0.08854902535676956]\n",
      "Fit spline Time: 0.002530336380004883\n",
      "logp: 19.18091583251953 18.14056968688965 time: 0.023738622665405273 iteration: 13 best: 5\n",
      "Fit wT: Time: 0.005096435546875 Wasserstein Distance: [0.0822407528758049, 0.06862933188676834]\n",
      "Fit spline Time: 0.002382993698120117\n",
      "logp: 19.186803817749023 18.11269187927246 time: 0.010788202285766602 iteration: 14 best: 5\n",
      "Fit wT: Time: 0.007764339447021484 Wasserstein Distance: [0.10002019256353378, 0.08677437901496887]\n",
      "Fit spline Time: 0.0028467178344726562\n"
     ]
    },
    {
     "name": "stderr",
     "output_type": "stream",
     "text": [
      "Stage:   0, Evidence ratio: 0\n"
     ]
    },
    {
     "name": "stdout",
     "output_type": "stream",
     "text": [
      "Fit wT: Time: 0.015166282653808594 Wasserstein Distance: [2.354915142059326, 1.1260771751403809]\n",
      "Fit spline Time: 0.0025794506072998047\n",
      "logp: 5.013391494750977 4.649791240692139 time: 0.02649068832397461 iteration: 1 best: 1\n",
      "Fit wT: Time: 0.03808331489562988 Wasserstein Distance: [0.19203560054302216, 0.1578892469406128]\n",
      "Fit spline Time: 0.003134012222290039\n",
      "logp: 5.237220287322998 4.663202285766602 time: 0.051937103271484375 iteration: 2 best: 2\n",
      "Fit wT: Time: 0.02768111228942871 Wasserstein Distance: [0.12748876214027405, 0.11698312312364578]\n",
      "Fit spline Time: 0.0025026798248291016\n",
      "logp: 5.368414878845215 4.587228298187256 time: 0.043172359466552734 iteration: 3 best: 2\n",
      "Fit wT: Time: 0.017069101333618164 Wasserstein Distance: [0.09097225964069366, 0.07576754689216614]\n",
      "Fit spline Time: 0.0028276443481445312\n",
      "logp: 5.401897430419922 4.500027179718018 time: 0.033298492431640625 iteration: 4 best: 2\n",
      "Fit wT: Time: 0.020410776138305664 Wasserstein Distance: [0.09365752339363098, 0.09234029799699783]\n",
      "Fit spline Time: 0.002366781234741211\n",
      "logp: 5.409347057342529 4.498113632202148 time: 0.029933452606201172 iteration: 5 best: 2\n",
      "Fit wT: Time: 0.024953842163085938 Wasserstein Distance: [0.08539117872714996, 0.07567095011472702]\n",
      "Fit spline Time: 0.006653547286987305\n",
      "logp: 5.4028778076171875 4.497611999511719 time: 0.03908133506774902 iteration: 6 best: 2\n",
      "Fit wT: Time: 0.02013397216796875 Wasserstein Distance: [0.13779349625110626, 0.11214065551757812]\n",
      "Fit spline Time: 0.003854513168334961\n",
      "logp: 5.505739688873291 4.451480865478516 time: 0.02947831153869629 iteration: 7 best: 2\n",
      "Fit wT: Time: 0.017739295959472656 Wasserstein Distance: [0.07760263234376907, 0.06781551986932755]\n",
      "Fit spline Time: 0.0026497840881347656\n",
      "logp: 5.512368679046631 4.399834156036377 time: 0.03081369400024414 iteration: 8 best: 2\n",
      "Fit wT: Time: 0.02498769760131836 Wasserstein Distance: [0.09169706702232361, 0.085532046854496]\n",
      "Fit spline Time: 0.00653529167175293\n",
      "logp: 5.5587615966796875 4.343564987182617 time: 0.03531503677368164 iteration: 9 best: 2\n",
      "Fit wT: Time: 0.01388406753540039 Wasserstein Distance: [0.07980350404977798, 0.073281429708004]\n",
      "Fit spline Time: 0.002407550811767578\n",
      "logp: 5.574909210205078 4.323419094085693 time: 0.023009538650512695 iteration: 10 best: 2\n",
      "Fit wT: Time: 0.009934425354003906 Wasserstein Distance: [0.06614600121974945, 0.06578108668327332]\n",
      "Fit spline Time: 0.0028100013732910156\n",
      "logp: 5.578693866729736 4.298567771911621 time: 0.025229930877685547 iteration: 11 best: 2\n",
      "Fit wT: Time: 0.023465871810913086 Wasserstein Distance: [0.07308325916528702, 0.06991381198167801]\n",
      "Fit spline Time: 0.002559185028076172\n"
     ]
    },
    {
     "name": "stderr",
     "output_type": "stream",
     "text": [
      "Stage:   1, Evidence ratio: [0.]\n"
     ]
    },
    {
     "name": "stdout",
     "output_type": "stream",
     "text": [
      "Fit wT: Time: 0.0011162757873535156 Wasserstein Distance: [2.1738369464874268, 1.4887369871139526]\n",
      "Fit spline Time: 0.0025076866149902344\n",
      "logp: 10.072951316833496 9.92642593383789 time: 0.014044761657714844 iteration: 1 best: 1\n",
      "Fit wT: Time: 0.014891624450683594 Wasserstein Distance: [0.8702679872512817, 0.348445862531662]\n",
      "Fit spline Time: 0.002573728561401367\n",
      "logp: 11.934340476989746 11.527774810791016 time: 0.027174711227416992 iteration: 2 best: 2\n",
      "Fit wT: Time: 0.030600547790527344 Wasserstein Distance: [0.1436697393655777, 0.14165396988391876]\n",
      "Fit spline Time: 0.0023725032806396484\n",
      "logp: 12.111989974975586 11.57105541229248 time: 0.03928542137145996 iteration: 3 best: 3\n",
      "Fit wT: Time: 0.02100968360900879 Wasserstein Distance: [0.09726893156766891, 0.09059280902147293]\n",
      "Fit spline Time: 0.00669550895690918\n",
      "logp: 12.143404960632324 11.557835578918457 time: 0.031098127365112305 iteration: 4 best: 3\n",
      "Fit wT: Time: 0.023934125900268555 Wasserstein Distance: [0.09216096997261047, 0.08351191133260727]\n",
      "Fit spline Time: 0.003083467483520508\n",
      "logp: 12.165160179138184 11.552927017211914 time: 0.04009127616882324 iteration: 5 best: 3\n",
      "Fit wT: Time: 0.0281984806060791 Wasserstein Distance: [0.10799974203109741, 0.10199127346277237]\n",
      "Fit spline Time: 0.004364013671875\n",
      "logp: 12.227749824523926 11.531759262084961 time: 0.04027438163757324 iteration: 6 best: 3\n",
      "Fit wT: Time: 0.008199453353881836 Wasserstein Distance: [0.06969577074050903, 0.06750660389661789]\n",
      "Fit spline Time: 0.002857208251953125\n",
      "logp: 12.245906829833984 11.497512817382812 time: 0.025403261184692383 iteration: 7 best: 3\n",
      "Fit wT: Time: 0.029009103775024414 Wasserstein Distance: [0.10896651446819305, 0.0929144024848938]\n",
      "Fit spline Time: 0.0025806427001953125\n",
      "logp: 12.290512084960938 11.480697631835938 time: 0.04062533378601074 iteration: 8 best: 3\n",
      "Fit wT: Time: 0.007898569107055664 Wasserstein Distance: [0.08472650498151779, 0.07284173369407654]\n",
      "Fit spline Time: 0.0027773380279541016\n",
      "logp: 12.298297882080078 11.457901954650879 time: 0.022281885147094727 iteration: 9 best: 3\n",
      "Fit wT: Time: 0.026967287063598633 Wasserstein Distance: [0.09309110790491104, 0.06909050792455673]\n",
      "Fit spline Time: 0.00555109977722168\n",
      "logp: 12.325074195861816 11.478623390197754 time: 0.039586544036865234 iteration: 10 best: 3\n",
      "Fit wT: Time: 0.020336389541625977 Wasserstein Distance: [0.08503410965204239, 0.08416517078876495]\n",
      "Fit spline Time: 0.0069332122802734375\n",
      "logp: 12.331768035888672 11.449626922607422 time: 0.03076481819152832 iteration: 11 best: 3\n",
      "Fit wT: Time: 0.030125141143798828 Wasserstein Distance: [0.10100357979536057, 0.09406163543462753]\n",
      "Fit spline Time: 0.00825190544128418\n",
      "logp: 12.34762191772461 11.49830150604248 time: 0.04662680625915527 iteration: 12 best: 3\n",
      "Fit wT: Time: 0.019928932189941406 Wasserstein Distance: [0.09084765613079071, 0.07733750343322754]\n",
      "Fit spline Time: 0.002432584762573242\n"
     ]
    },
    {
     "name": "stderr",
     "output_type": "stream",
     "text": [
      "Stage:   2, Evidence ratio: [0.05522301]\n"
     ]
    },
    {
     "name": "stdout",
     "output_type": "stream",
     "text": [
      "Fit wT: Time: 0.0009415149688720703 Wasserstein Distance: [1.9719008207321167, 1.7490328550338745]\n",
      "Fit spline Time: 0.0035600662231445312\n",
      "logp: 16.70784568786621 16.513792037963867 time: 0.013020038604736328 iteration: 1 best: 1\n",
      "Fit wT: Time: 0.02246403694152832 Wasserstein Distance: [0.8648902177810669, 0.32404056191444397]\n",
      "Fit spline Time: 0.0024552345275878906\n",
      "logp: 18.495935440063477 18.168363571166992 time: 0.03704690933227539 iteration: 2 best: 2\n",
      "Fit wT: Time: 0.01869034767150879 Wasserstein Distance: [0.243322491645813, 0.14941662549972534]\n",
      "Fit spline Time: 0.002577066421508789\n",
      "logp: 18.685503005981445 18.157129287719727 time: 0.0245819091796875 iteration: 3 best: 2\n",
      "Fit wT: Time: 0.01659369468688965 Wasserstein Distance: [0.12860636413097382, 0.11630566418170929]\n",
      "Fit spline Time: 0.0033881664276123047\n",
      "logp: 18.74955177307129 18.05756950378418 time: 0.023393869400024414 iteration: 4 best: 2\n",
      "Fit wT: Time: 0.008679866790771484 Wasserstein Distance: [0.08380217105150223, 0.0753704383969307]\n",
      "Fit spline Time: 0.002604246139526367\n",
      "logp: 18.78329849243164 18.03208351135254 time: 0.014534950256347656 iteration: 5 best: 2\n",
      "Fit wT: Time: 0.007197380065917969 Wasserstein Distance: [0.0982329398393631, 0.06872475892305374]\n",
      "Fit spline Time: 0.0024166107177734375\n",
      "logp: 18.801416397094727 18.037994384765625 time: 0.012859106063842773 iteration: 6 best: 2\n",
      "Fit wT: Time: 0.013323068618774414 Wasserstein Distance: [0.07422611862421036, 0.06936483830213547]\n",
      "Fit spline Time: 0.005170345306396484\n",
      "logp: 18.827472686767578 17.998035430908203 time: 0.02205061912536621 iteration: 7 best: 2\n",
      "Fit wT: Time: 0.013071060180664062 Wasserstein Distance: [0.09930725395679474, 0.08979441970586777]\n",
      "Fit spline Time: 0.002359151840209961\n",
      "logp: 18.868783950805664 17.967269897460938 time: 0.018555879592895508 iteration: 8 best: 2\n",
      "Fit wT: Time: 0.013532638549804688 Wasserstein Distance: [0.08860591053962708, 0.07810217142105103]\n",
      "Fit spline Time: 0.0023894309997558594\n",
      "logp: 18.879619598388672 17.928918838500977 time: 0.019053936004638672 iteration: 9 best: 2\n",
      "Fit wT: Time: 0.00616455078125 Wasserstein Distance: [0.07819266617298126, 0.06990858167409897]\n",
      "Fit spline Time: 0.0022916793823242188\n",
      "logp: 18.90254020690918 17.889556884765625 time: 0.017334461212158203 iteration: 10 best: 2\n",
      "Fit wT: Time: 0.026471614837646484 Wasserstein Distance: [0.1300096958875656, 0.0897737592458725]\n",
      "Fit spline Time: 0.002660512924194336\n",
      "logp: 19.03203773498535 17.8637638092041 time: 0.03828620910644531 iteration: 11 best: 2\n",
      "Fit wT: Time: 0.022937536239624023 Wasserstein Distance: [0.0974537581205368, 0.07037210464477539]\n",
      "Fit spline Time: 0.0023419857025146484\n"
     ]
    }
   ],
   "source": [
    "x = np.arange(10)\n",
    "y = 2 * x + 1 + np.random.normal(scale=0.1, size=len(x))\n",
    "\n",
    "reg_model = pm.Model()\n",
    "\n",
    "with reg_model:\n",
    "\n",
    "    a = pm.Normal('a', mu=2, sigma=1.0)\n",
    "    b = pm.Normal('b', mu=1, sigma=1.0)\n",
    "    like = pm.Normal('like', mu=a*x+b, sigma=0.1, observed=y)\n",
    "    trace = pm.sample_ns_nfmc(100000, rho=1e-3, chains=2, frac_validate=0.5, alpha=(0,0))\n",
    "    az_trace = az.from_pymc3(trace)"
   ]
  },
  {
   "cell_type": "code",
   "execution_count": 5,
   "id": "representative-traffic",
   "metadata": {},
   "outputs": [
    {
     "data": {
      "text/plain": [
       "<Figure size 720x480 with 0 Axes>"
      ]
     },
     "metadata": {},
     "output_type": "display_data"
    },
    {
     "data": {
      "image/png": "[encoded data removed]",
      "text/plain": [
       "<Figure size 1200x400 with 4 Axes>"
      ]
     },
     "metadata": {},
     "output_type": "display_data"
    }
   ],
   "source": [
    "plt.figure()\n",
    "ax = az.plot_trace(az_trace, compact=True, kind=\"rank_bars\")\n",
    "plt.show()"
   ]
  },
  {
   "cell_type": "code",
   "execution_count": null,
   "id": "dynamic-english",
   "metadata": {},
   "outputs": [],
   "source": []
  }
 ],
 "metadata": {
  "kernelspec": {
   "display_name": "Python 3",
   "language": "python",
   "name": "python3"
  },
  "language_info": {
   "codemirror_mode": {
    "name": "ipython",
    "version": 3
   },
   "file_extension": ".py",
   "mimetype": "text/x-python",
   "name": "python",
   "nbconvert_exporter": "python",
   "pygments_lexer": "ipython3",
   "version": "3.9.1"
  }
 },
 "nbformat": 4,
 "nbformat_minor": 5
}
